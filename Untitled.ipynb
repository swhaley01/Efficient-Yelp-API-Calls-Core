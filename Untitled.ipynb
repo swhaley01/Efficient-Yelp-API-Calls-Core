{
 "cells": [
  {
   "cell_type": "code",
   "execution_count": 1,
   "id": "e140c42d",
   "metadata": {},
   "outputs": [],
   "source": [
    "# Standard Imports\n",
    "import numpy as np\n",
    "import pandas as pd\n",
    "import matplotlib.pyplot as plt\n",
    "import seaborn as sns\n",
    "# Additional Imports\n",
    "import os, json, math, time\n",
    "from yelpapi import YelpAPI\n",
    "from tqdm.notebook import tqdm_notebook"
   ]
  },
  {
   "cell_type": "code",
   "execution_count": 3,
   "id": "ffc41af2",
   "metadata": {},
   "outputs": [],
   "source": [
    "# Load API Credentials\n",
    "with open('/Users/sherlin01/.secret/yelp_api.json') as f:   #use your path here!\n",
    "    login = json.load(f)\n",
    "# Instantiate YelpAPI Variable\n",
    "yelp_api = YelpAPI(login['API Key'], timeout_s=5.0)"
   ]
  },
  {
   "cell_type": "code",
   "execution_count": 4,
   "id": "c99973b7",
   "metadata": {},
   "outputs": [],
   "source": [
    "LOCATION = 'Fresno, TX'\n",
    "TERM = 'Chicken'"
   ]
  },
  {
   "cell_type": "code",
   "execution_count": 5,
   "id": "8f2c1f27",
   "metadata": {},
   "outputs": [
    {
     "data": {
      "text/plain": [
       "'Data/results_Fresno_Chicken.json'"
      ]
     },
     "execution_count": 5,
     "metadata": {},
     "output_type": "execute_result"
    }
   ],
   "source": [
    "# Name the file to save results\n",
    "JSON_FILE = f\"Data/results_Fresno_Chicken.json\"\n",
    "JSON_FILE"
   ]
  },
  {
   "cell_type": "code",
   "execution_count": 6,
   "id": "be858a6a",
   "metadata": {},
   "outputs": [
    {
     "name": "stdout",
     "output_type": "stream",
     "text": [
      "[i] Data/results_Fresno_Chicken.json not found. Saving empty list to file.\n"
     ]
    }
   ],
   "source": [
    "## Check if JSON_FILE exists\n",
    "file_exists = os.path.isfile(JSON_FILE)\n",
    "## If it does not exist: \n",
    "if file_exists == False:\n",
    "    \n",
    "    ## CREATE ANY NEEDED FOLDERS\n",
    "    # Get the Folder Name only\n",
    "    folder = os.path.dirname(JSON_FILE)\n",
    "    ## If JSON_FILE included a folder:\n",
    "    if len(folder)>0:\n",
    "        # create the folder\n",
    "        os.makedirs(folder,exist_ok=True)\n",
    "        \n",
    "        \n",
    "    ## INFORM USER AND SAVE EMPTY LIST\n",
    "    print(f\"[i] {JSON_FILE} not found. Saving empty list to file.\")\n",
    "    \n",
    "    \n",
    "    ## save the first page of results\n",
    "    with open(JSON_FILE,'w') as f:\n",
    "        json.dump([],f)  \n",
    "## If it exists, inform user\n",
    "else:\n",
    "    print(f\"[i] {JSON_FILE} already exists.\")"
   ]
  },
  {
   "cell_type": "code",
   "execution_count": 7,
   "id": "90036527",
   "metadata": {},
   "outputs": [
    {
     "name": "stdout",
     "output_type": "stream",
     "text": [
      "- 0 previous results found.\n"
     ]
    }
   ],
   "source": [
    "# We don't have any results yet, but this is the code to find out how many so we know where to start the offset\n",
    "\n",
    "with open(JSON_FILE,'r') as f:\n",
    "    previous_results = json.load(f)\n",
    "    \n",
    "## set offset based on previous results\n",
    "n_results = len(previous_results)\n",
    "print(f'- {n_results} previous results found.')"
   ]
  },
  {
   "cell_type": "code",
   "execution_count": 8,
   "id": "b9c2271c",
   "metadata": {},
   "outputs": [
    {
     "data": {
      "text/plain": [
       "dict_keys(['businesses', 'total', 'region'])"
      ]
     },
     "execution_count": 8,
     "metadata": {},
     "output_type": "execute_result"
    }
   ],
   "source": [
    "results = yelp_api.search_query(location=LOCATION,\n",
    "                                term=TERM,\n",
    "                               offset=n_results)\n",
    "results.keys()"
   ]
  },
  {
   "cell_type": "code",
   "execution_count": 9,
   "id": "c8dfb5fe",
   "metadata": {},
   "outputs": [
    {
     "data": {
      "text/plain": [
       "862"
      ]
     },
     "execution_count": 9,
     "metadata": {},
     "output_type": "execute_result"
    }
   ],
   "source": [
    "# how many results do we expect?\n",
    "total_results = results['total']\n",
    "total_results"
   ]
  },
  {
   "cell_type": "code",
   "execution_count": 10,
   "id": "677c2cbc",
   "metadata": {},
   "outputs": [
    {
     "data": {
      "text/plain": [
       "20"
      ]
     },
     "execution_count": 10,
     "metadata": {},
     "output_type": "execute_result"
    }
   ],
   "source": [
    "# How many results per page\n",
    "results_per_page = len(results['businesses'])\n",
    "results_per_page"
   ]
  },
  {
   "cell_type": "code",
   "execution_count": 11,
   "id": "9ddea47e",
   "metadata": {},
   "outputs": [
    {
     "data": {
      "text/plain": [
       "44"
      ]
     },
     "execution_count": 11,
     "metadata": {},
     "output_type": "execute_result"
    }
   ],
   "source": [
    "# Use math.ceil to round up for the total number of pages of results.\n",
    "n_pages = math.ceil((results['total']-n_results)/ results_per_page)\n",
    "n_pages"
   ]
  },
  {
   "cell_type": "code",
   "execution_count": 12,
   "id": "1e1585f2",
   "metadata": {},
   "outputs": [],
   "source": [
    "previous_results.extend(results['businesses'])  \n",
    "with open(JSON_FILE,'w') as f:\n",
    "     json.dump(previous_results,f)"
   ]
  },
  {
   "cell_type": "code",
   "execution_count": 13,
   "id": "0d38c5f2",
   "metadata": {},
   "outputs": [
    {
     "data": {
      "application/vnd.jupyter.widget-view+json": {
       "model_id": "9972f1fa9ba54eee9cbe6a3940d7cb96",
       "version_major": 2,
       "version_minor": 0
      },
      "text/plain": [
       "  0%|          | 0/44 [00:00<?, ?it/s]"
      ]
     },
     "metadata": {},
     "output_type": "display_data"
    }
   ],
   "source": [
    "for i in tqdm_notebook( range(1,n_pages+1)):\n",
    "    time.sleep(.2)\n",
    "    ## Read in results in progress file and check the length\n",
    "    with open(JSON_FILE, 'r') as f:\n",
    "        previous_results = json.load(f)\n",
    "    ## save number of results for to use as offset\n",
    "    n_results = len(previous_results)\n",
    "    ## use n_results as the OFFSET \n",
    "    results = yelp_api.search_query(location=LOCATION,\n",
    "                                    term=TERM, \n",
    "                                    offset=n_results)\n",
    "    \n",
    "    ## append new results and save to file\n",
    "    previous_results.extend(results['businesses'])\n",
    "    \n",
    "#     display(previous_results)\n",
    "    with open(JSON_FILE,'w') as f:\n",
    "        json.dump(previous_results,f)"
   ]
  },
  {
   "cell_type": "code",
   "execution_count": 14,
   "id": "85ded415",
   "metadata": {},
   "outputs": [
    {
     "data": {
      "text/html": [
       "<div>\n",
       "<style scoped>\n",
       "    .dataframe tbody tr th:only-of-type {\n",
       "        vertical-align: middle;\n",
       "    }\n",
       "\n",
       "    .dataframe tbody tr th {\n",
       "        vertical-align: top;\n",
       "    }\n",
       "\n",
       "    .dataframe thead th {\n",
       "        text-align: right;\n",
       "    }\n",
       "</style>\n",
       "<table border=\"1\" class=\"dataframe\">\n",
       "  <thead>\n",
       "    <tr style=\"text-align: right;\">\n",
       "      <th></th>\n",
       "      <th>id</th>\n",
       "      <th>alias</th>\n",
       "      <th>name</th>\n",
       "      <th>image_url</th>\n",
       "      <th>is_closed</th>\n",
       "      <th>url</th>\n",
       "      <th>review_count</th>\n",
       "      <th>categories</th>\n",
       "      <th>rating</th>\n",
       "      <th>coordinates</th>\n",
       "      <th>transactions</th>\n",
       "      <th>price</th>\n",
       "      <th>location</th>\n",
       "      <th>phone</th>\n",
       "      <th>display_phone</th>\n",
       "      <th>distance</th>\n",
       "    </tr>\n",
       "  </thead>\n",
       "  <tbody>\n",
       "    <tr>\n",
       "      <th>0</th>\n",
       "      <td>waguhjeCnyyIv_5PkBDcIQ</td>\n",
       "      <td>daves-hot-chicken-missouri-city</td>\n",
       "      <td>Dave's Hot Chicken</td>\n",
       "      <td>https://s3-media1.fl.yelpcdn.com/bphoto/LE-VoO...</td>\n",
       "      <td>False</td>\n",
       "      <td>https://www.yelp.com/biz/daves-hot-chicken-mis...</td>\n",
       "      <td>134</td>\n",
       "      <td>[{'alias': 'chickenshop', 'title': 'Chicken Sh...</td>\n",
       "      <td>4.0</td>\n",
       "      <td>{'latitude': 29.562660975341522, 'longitude': ...</td>\n",
       "      <td>[delivery, pickup]</td>\n",
       "      <td>$$</td>\n",
       "      <td>{'address1': '6324 Hwy 6 S', 'address2': None,...</td>\n",
       "      <td>+18329874799</td>\n",
       "      <td>(832) 987-4799</td>\n",
       "      <td>9394.431943</td>\n",
       "    </tr>\n",
       "    <tr>\n",
       "      <th>1</th>\n",
       "      <td>b4a8eGt5rBr8ubKGXO8wYA</td>\n",
       "      <td>take-the-wheel-mobile-fresno</td>\n",
       "      <td>Take The Wheel Mobile</td>\n",
       "      <td>https://s3-media2.fl.yelpcdn.com/bphoto/WWd4yD...</td>\n",
       "      <td>False</td>\n",
       "      <td>https://www.yelp.com/biz/take-the-wheel-mobile...</td>\n",
       "      <td>52</td>\n",
       "      <td>[{'alias': 'foodtrucks', 'title': 'Food Trucks...</td>\n",
       "      <td>4.5</td>\n",
       "      <td>{'latitude': 29.523673, 'longitude': -95.45414}</td>\n",
       "      <td>[delivery, pickup]</td>\n",
       "      <td>$</td>\n",
       "      <td>{'address1': '4233 Fm 521 Rd', 'address2': Non...</td>\n",
       "      <td>+18323342181</td>\n",
       "      <td>(832) 334-2181</td>\n",
       "      <td>2171.094342</td>\n",
       "    </tr>\n",
       "    <tr>\n",
       "      <th>2</th>\n",
       "      <td>aMalXw3fbhjiEURWeb4irw</td>\n",
       "      <td>slim-chickens-pearland-2</td>\n",
       "      <td>Slim Chickens</td>\n",
       "      <td>https://s3-media2.fl.yelpcdn.com/bphoto/1LAfXk...</td>\n",
       "      <td>False</td>\n",
       "      <td>https://www.yelp.com/biz/slim-chickens-pearlan...</td>\n",
       "      <td>59</td>\n",
       "      <td>[{'alias': 'southern', 'title': 'Southern'}, {...</td>\n",
       "      <td>3.0</td>\n",
       "      <td>{'latitude': 29.5559525, 'longitude': -95.3943...</td>\n",
       "      <td>[delivery, pickup]</td>\n",
       "      <td>NaN</td>\n",
       "      <td>{'address1': '11131 Broadway St', 'address2': ...</td>\n",
       "      <td>+13466990150</td>\n",
       "      <td>(346) 699-0150</td>\n",
       "      <td>7719.757399</td>\n",
       "    </tr>\n",
       "    <tr>\n",
       "      <th>3</th>\n",
       "      <td>uj3VM1PKUZGQOnlaAu4vhQ</td>\n",
       "      <td>pollo-bravo-pearland-2</td>\n",
       "      <td>Pollo Bravo</td>\n",
       "      <td>https://s3-media2.fl.yelpcdn.com/bphoto/9oIh8D...</td>\n",
       "      <td>False</td>\n",
       "      <td>https://www.yelp.com/biz/pollo-bravo-pearland-...</td>\n",
       "      <td>6</td>\n",
       "      <td>[{'alias': 'peruvian', 'title': 'Peruvian'}, {...</td>\n",
       "      <td>4.0</td>\n",
       "      <td>{'latitude': 29.570120702368616, 'longitude': ...</td>\n",
       "      <td>[]</td>\n",
       "      <td>NaN</td>\n",
       "      <td>{'address1': '15718 S Hwy 288', 'address2': 'S...</td>\n",
       "      <td>+13464091880</td>\n",
       "      <td>(346) 409-1880</td>\n",
       "      <td>8688.218818</td>\n",
       "    </tr>\n",
       "    <tr>\n",
       "      <th>4</th>\n",
       "      <td>pTKZxpNrHL7hFyu54PGbig</td>\n",
       "      <td>micheauxs-southern-cuisine-missouri-city</td>\n",
       "      <td>Micheaux's Southern Cuisine</td>\n",
       "      <td>https://s3-media2.fl.yelpcdn.com/bphoto/Yb6V00...</td>\n",
       "      <td>False</td>\n",
       "      <td>https://www.yelp.com/biz/micheauxs-southern-cu...</td>\n",
       "      <td>263</td>\n",
       "      <td>[{'alias': 'soulfood', 'title': 'Soul Food'}, ...</td>\n",
       "      <td>4.5</td>\n",
       "      <td>{'latitude': 29.556212297847345, 'longitude': ...</td>\n",
       "      <td>[delivery, pickup]</td>\n",
       "      <td>$$</td>\n",
       "      <td>{'address1': '6850 Highway 6', 'address2': 'st...</td>\n",
       "      <td>+18329871916</td>\n",
       "      <td>(832) 987-1916</td>\n",
       "      <td>8670.870406</td>\n",
       "    </tr>\n",
       "  </tbody>\n",
       "</table>\n",
       "</div>"
      ],
      "text/plain": [
       "                       id                                     alias  \\\n",
       "0  waguhjeCnyyIv_5PkBDcIQ           daves-hot-chicken-missouri-city   \n",
       "1  b4a8eGt5rBr8ubKGXO8wYA              take-the-wheel-mobile-fresno   \n",
       "2  aMalXw3fbhjiEURWeb4irw                  slim-chickens-pearland-2   \n",
       "3  uj3VM1PKUZGQOnlaAu4vhQ                    pollo-bravo-pearland-2   \n",
       "4  pTKZxpNrHL7hFyu54PGbig  micheauxs-southern-cuisine-missouri-city   \n",
       "\n",
       "                          name  \\\n",
       "0           Dave's Hot Chicken   \n",
       "1        Take The Wheel Mobile   \n",
       "2                Slim Chickens   \n",
       "3                  Pollo Bravo   \n",
       "4  Micheaux's Southern Cuisine   \n",
       "\n",
       "                                           image_url  is_closed  \\\n",
       "0  https://s3-media1.fl.yelpcdn.com/bphoto/LE-VoO...      False   \n",
       "1  https://s3-media2.fl.yelpcdn.com/bphoto/WWd4yD...      False   \n",
       "2  https://s3-media2.fl.yelpcdn.com/bphoto/1LAfXk...      False   \n",
       "3  https://s3-media2.fl.yelpcdn.com/bphoto/9oIh8D...      False   \n",
       "4  https://s3-media2.fl.yelpcdn.com/bphoto/Yb6V00...      False   \n",
       "\n",
       "                                                 url  review_count  \\\n",
       "0  https://www.yelp.com/biz/daves-hot-chicken-mis...           134   \n",
       "1  https://www.yelp.com/biz/take-the-wheel-mobile...            52   \n",
       "2  https://www.yelp.com/biz/slim-chickens-pearlan...            59   \n",
       "3  https://www.yelp.com/biz/pollo-bravo-pearland-...             6   \n",
       "4  https://www.yelp.com/biz/micheauxs-southern-cu...           263   \n",
       "\n",
       "                                          categories  rating  \\\n",
       "0  [{'alias': 'chickenshop', 'title': 'Chicken Sh...     4.0   \n",
       "1  [{'alias': 'foodtrucks', 'title': 'Food Trucks...     4.5   \n",
       "2  [{'alias': 'southern', 'title': 'Southern'}, {...     3.0   \n",
       "3  [{'alias': 'peruvian', 'title': 'Peruvian'}, {...     4.0   \n",
       "4  [{'alias': 'soulfood', 'title': 'Soul Food'}, ...     4.5   \n",
       "\n",
       "                                         coordinates        transactions  \\\n",
       "0  {'latitude': 29.562660975341522, 'longitude': ...  [delivery, pickup]   \n",
       "1    {'latitude': 29.523673, 'longitude': -95.45414}  [delivery, pickup]   \n",
       "2  {'latitude': 29.5559525, 'longitude': -95.3943...  [delivery, pickup]   \n",
       "3  {'latitude': 29.570120702368616, 'longitude': ...                  []   \n",
       "4  {'latitude': 29.556212297847345, 'longitude': ...  [delivery, pickup]   \n",
       "\n",
       "  price                                           location         phone  \\\n",
       "0    $$  {'address1': '6324 Hwy 6 S', 'address2': None,...  +18329874799   \n",
       "1     $  {'address1': '4233 Fm 521 Rd', 'address2': Non...  +18323342181   \n",
       "2   NaN  {'address1': '11131 Broadway St', 'address2': ...  +13466990150   \n",
       "3   NaN  {'address1': '15718 S Hwy 288', 'address2': 'S...  +13464091880   \n",
       "4    $$  {'address1': '6850 Highway 6', 'address2': 'st...  +18329871916   \n",
       "\n",
       "    display_phone     distance  \n",
       "0  (832) 987-4799  9394.431943  \n",
       "1  (832) 334-2181  2171.094342  \n",
       "2  (346) 699-0150  7719.757399  \n",
       "3  (346) 409-1880  8688.218818  \n",
       "4  (832) 987-1916  8670.870406  "
      ]
     },
     "metadata": {},
     "output_type": "display_data"
    },
    {
     "data": {
      "text/html": [
       "<div>\n",
       "<style scoped>\n",
       "    .dataframe tbody tr th:only-of-type {\n",
       "        vertical-align: middle;\n",
       "    }\n",
       "\n",
       "    .dataframe tbody tr th {\n",
       "        vertical-align: top;\n",
       "    }\n",
       "\n",
       "    .dataframe thead th {\n",
       "        text-align: right;\n",
       "    }\n",
       "</style>\n",
       "<table border=\"1\" class=\"dataframe\">\n",
       "  <thead>\n",
       "    <tr style=\"text-align: right;\">\n",
       "      <th></th>\n",
       "      <th>id</th>\n",
       "      <th>alias</th>\n",
       "      <th>name</th>\n",
       "      <th>image_url</th>\n",
       "      <th>is_closed</th>\n",
       "      <th>url</th>\n",
       "      <th>review_count</th>\n",
       "      <th>categories</th>\n",
       "      <th>rating</th>\n",
       "      <th>coordinates</th>\n",
       "      <th>transactions</th>\n",
       "      <th>price</th>\n",
       "      <th>location</th>\n",
       "      <th>phone</th>\n",
       "      <th>display_phone</th>\n",
       "      <th>distance</th>\n",
       "    </tr>\n",
       "  </thead>\n",
       "  <tbody>\n",
       "    <tr>\n",
       "      <th>408</th>\n",
       "      <td>injqNtKiyAXGYTrsEpUz1g</td>\n",
       "      <td>mcdonalds-houston-129</td>\n",
       "      <td>McDonald's</td>\n",
       "      <td>https://s3-media2.fl.yelpcdn.com/bphoto/UQU_DE...</td>\n",
       "      <td>False</td>\n",
       "      <td>https://www.yelp.com/biz/mcdonalds-houston-129...</td>\n",
       "      <td>24</td>\n",
       "      <td>[{'alias': 'hotdogs', 'title': 'Fast Food'}, {...</td>\n",
       "      <td>2.0</td>\n",
       "      <td>{'latitude': 29.613257, 'longitude': -95.42024}</td>\n",
       "      <td>[delivery]</td>\n",
       "      <td>$</td>\n",
       "      <td>{'address1': '13402 Almeda Rd', 'address2': ''...</td>\n",
       "      <td>+17134342574</td>\n",
       "      <td>(713) 434-2574</td>\n",
       "      <td>9682.108262</td>\n",
       "    </tr>\n",
       "    <tr>\n",
       "      <th>409</th>\n",
       "      <td>RweHJV2eSQmbgQUZKC7Jng</td>\n",
       "      <td>dennys-pearland</td>\n",
       "      <td>Denny's</td>\n",
       "      <td>https://s3-media3.fl.yelpcdn.com/bphoto/TIm8U0...</td>\n",
       "      <td>False</td>\n",
       "      <td>https://www.yelp.com/biz/dennys-pearland?adjus...</td>\n",
       "      <td>74</td>\n",
       "      <td>[{'alias': 'tradamerican', 'title': 'American ...</td>\n",
       "      <td>2.5</td>\n",
       "      <td>{'latitude': 29.556259, 'longitude': -95.39474...</td>\n",
       "      <td>[]</td>\n",
       "      <td>$</td>\n",
       "      <td>{'address1': '11221 Broadway Blvd', 'address2'...</td>\n",
       "      <td>+17134363449</td>\n",
       "      <td>(713) 436-3449</td>\n",
       "      <td>7552.173642</td>\n",
       "    </tr>\n",
       "    <tr>\n",
       "      <th>410</th>\n",
       "      <td>8mDzOO_wbNlpbkYd2JsrVw</td>\n",
       "      <td>pizza-hut-missouri-city</td>\n",
       "      <td>Pizza Hut</td>\n",
       "      <td>https://s3-media3.fl.yelpcdn.com/bphoto/JlzJle...</td>\n",
       "      <td>False</td>\n",
       "      <td>https://www.yelp.com/biz/pizza-hut-missouri-ci...</td>\n",
       "      <td>76</td>\n",
       "      <td>[{'alias': 'pizza', 'title': 'Pizza'}, {'alias...</td>\n",
       "      <td>1.0</td>\n",
       "      <td>{'latitude': 29.594692998500506, 'longitude': ...</td>\n",
       "      <td>[delivery]</td>\n",
       "      <td>$</td>\n",
       "      <td>{'address1': '2292 Fm 2234 Rd', 'address2': ''...</td>\n",
       "      <td>+12812616611</td>\n",
       "      <td>(281) 261-6611</td>\n",
       "      <td>8436.321610</td>\n",
       "    </tr>\n",
       "    <tr>\n",
       "      <th>411</th>\n",
       "      <td>N6lGQqsztkiCWR_IBDNcdA</td>\n",
       "      <td>jimmy-johns-missouri-city</td>\n",
       "      <td>Jimmy John's</td>\n",
       "      <td>https://s3-media1.fl.yelpcdn.com/bphoto/0lxL49...</td>\n",
       "      <td>False</td>\n",
       "      <td>https://www.yelp.com/biz/jimmy-johns-missouri-...</td>\n",
       "      <td>61</td>\n",
       "      <td>[{'alias': 'sandwiches', 'title': 'Sandwiches'...</td>\n",
       "      <td>2.0</td>\n",
       "      <td>{'latitude': 29.5681002, 'longitude': -95.5675...</td>\n",
       "      <td>[]</td>\n",
       "      <td>$</td>\n",
       "      <td>{'address1': '5830 Hwy 6', 'address2': '', 'ad...</td>\n",
       "      <td>+12819473000</td>\n",
       "      <td>(281) 947-3000</td>\n",
       "      <td>10041.447838</td>\n",
       "    </tr>\n",
       "    <tr>\n",
       "      <th>412</th>\n",
       "      <td>VMEAGRQIK82MJ_jUwDzS9g</td>\n",
       "      <td>mcdonalds-houston-94</td>\n",
       "      <td>McDonald's</td>\n",
       "      <td>https://s3-media2.fl.yelpcdn.com/bphoto/HVebbV...</td>\n",
       "      <td>False</td>\n",
       "      <td>https://www.yelp.com/biz/mcdonalds-houston-94?...</td>\n",
       "      <td>38</td>\n",
       "      <td>[{'alias': 'hotdogs', 'title': 'Fast Food'}, {...</td>\n",
       "      <td>1.5</td>\n",
       "      <td>{'latitude': 29.6148367819123, 'longitude': -9...</td>\n",
       "      <td>[delivery]</td>\n",
       "      <td>$</td>\n",
       "      <td>{'address1': '2503 Almeda-genoa Rd', 'address2...</td>\n",
       "      <td>+17134131570</td>\n",
       "      <td>(713) 413-1570</td>\n",
       "      <td>11833.317918</td>\n",
       "    </tr>\n",
       "  </tbody>\n",
       "</table>\n",
       "</div>"
      ],
      "text/plain": [
       "                         id                      alias          name  \\\n",
       "408  injqNtKiyAXGYTrsEpUz1g      mcdonalds-houston-129    McDonald's   \n",
       "409  RweHJV2eSQmbgQUZKC7Jng            dennys-pearland       Denny's   \n",
       "410  8mDzOO_wbNlpbkYd2JsrVw    pizza-hut-missouri-city     Pizza Hut   \n",
       "411  N6lGQqsztkiCWR_IBDNcdA  jimmy-johns-missouri-city  Jimmy John's   \n",
       "412  VMEAGRQIK82MJ_jUwDzS9g       mcdonalds-houston-94    McDonald's   \n",
       "\n",
       "                                             image_url  is_closed  \\\n",
       "408  https://s3-media2.fl.yelpcdn.com/bphoto/UQU_DE...      False   \n",
       "409  https://s3-media3.fl.yelpcdn.com/bphoto/TIm8U0...      False   \n",
       "410  https://s3-media3.fl.yelpcdn.com/bphoto/JlzJle...      False   \n",
       "411  https://s3-media1.fl.yelpcdn.com/bphoto/0lxL49...      False   \n",
       "412  https://s3-media2.fl.yelpcdn.com/bphoto/HVebbV...      False   \n",
       "\n",
       "                                                   url  review_count  \\\n",
       "408  https://www.yelp.com/biz/mcdonalds-houston-129...            24   \n",
       "409  https://www.yelp.com/biz/dennys-pearland?adjus...            74   \n",
       "410  https://www.yelp.com/biz/pizza-hut-missouri-ci...            76   \n",
       "411  https://www.yelp.com/biz/jimmy-johns-missouri-...            61   \n",
       "412  https://www.yelp.com/biz/mcdonalds-houston-94?...            38   \n",
       "\n",
       "                                            categories  rating  \\\n",
       "408  [{'alias': 'hotdogs', 'title': 'Fast Food'}, {...     2.0   \n",
       "409  [{'alias': 'tradamerican', 'title': 'American ...     2.5   \n",
       "410  [{'alias': 'pizza', 'title': 'Pizza'}, {'alias...     1.0   \n",
       "411  [{'alias': 'sandwiches', 'title': 'Sandwiches'...     2.0   \n",
       "412  [{'alias': 'hotdogs', 'title': 'Fast Food'}, {...     1.5   \n",
       "\n",
       "                                           coordinates transactions price  \\\n",
       "408    {'latitude': 29.613257, 'longitude': -95.42024}   [delivery]     $   \n",
       "409  {'latitude': 29.556259, 'longitude': -95.39474...           []     $   \n",
       "410  {'latitude': 29.594692998500506, 'longitude': ...   [delivery]     $   \n",
       "411  {'latitude': 29.5681002, 'longitude': -95.5675...           []     $   \n",
       "412  {'latitude': 29.6148367819123, 'longitude': -9...   [delivery]     $   \n",
       "\n",
       "                                              location         phone  \\\n",
       "408  {'address1': '13402 Almeda Rd', 'address2': ''...  +17134342574   \n",
       "409  {'address1': '11221 Broadway Blvd', 'address2'...  +17134363449   \n",
       "410  {'address1': '2292 Fm 2234 Rd', 'address2': ''...  +12812616611   \n",
       "411  {'address1': '5830 Hwy 6', 'address2': '', 'ad...  +12819473000   \n",
       "412  {'address1': '2503 Almeda-genoa Rd', 'address2...  +17134131570   \n",
       "\n",
       "      display_phone      distance  \n",
       "408  (713) 434-2574   9682.108262  \n",
       "409  (713) 436-3449   7552.173642  \n",
       "410  (281) 261-6611   8436.321610  \n",
       "411  (281) 947-3000  10041.447838  \n",
       "412  (713) 413-1570  11833.317918  "
      ]
     },
     "metadata": {},
     "output_type": "display_data"
    }
   ],
   "source": [
    "final_df = pd.read_json(JSON_FILE)\n",
    "display(final_df.head(), final_df.tail())"
   ]
  },
  {
   "cell_type": "code",
   "execution_count": 15,
   "id": "f652bdd3",
   "metadata": {},
   "outputs": [
    {
     "data": {
      "text/plain": [
       "0"
      ]
     },
     "execution_count": 15,
     "metadata": {},
     "output_type": "execute_result"
    }
   ],
   "source": [
    "# check for duplicate IDs\n",
    "final_df.duplicated(subset='id').sum()"
   ]
  },
  {
   "cell_type": "code",
   "execution_count": 16,
   "id": "756279be",
   "metadata": {},
   "outputs": [],
   "source": [
    "# save the final results to a compressed csv\n",
    "final_df.to_csv('Data/final_results_Greenville_Sushi.csv.gz', compression='gzip',index=False)"
   ]
  },
  {
   "cell_type": "code",
   "execution_count": null,
   "id": "d0bfc0d6",
   "metadata": {},
   "outputs": [],
   "source": []
  },
  {
   "cell_type": "code",
   "execution_count": null,
   "id": "bf4a5801",
   "metadata": {},
   "outputs": [],
   "source": []
  },
  {
   "cell_type": "code",
   "execution_count": null,
   "id": "1fd9335a",
   "metadata": {},
   "outputs": [],
   "source": []
  }
 ],
 "metadata": {
  "kernelspec": {
   "display_name": "Python (dojo-env)",
   "language": "python",
   "name": "dojo-env"
  },
  "language_info": {
   "codemirror_mode": {
    "name": "ipython",
    "version": 3
   },
   "file_extension": ".py",
   "mimetype": "text/x-python",
   "name": "python",
   "nbconvert_exporter": "python",
   "pygments_lexer": "ipython3",
   "version": "3.8.13"
  },
  "toc": {
   "base_numbering": 1,
   "nav_menu": {},
   "number_sections": true,
   "sideBar": true,
   "skip_h1_title": false,
   "title_cell": "Table of Contents",
   "title_sidebar": "Contents",
   "toc_cell": false,
   "toc_position": {},
   "toc_section_display": true,
   "toc_window_display": false
  }
 },
 "nbformat": 4,
 "nbformat_minor": 5
}
